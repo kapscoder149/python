{
 "cells": [
  {
   "cell_type": "code",
   "execution_count": 3,
   "metadata": {},
   "outputs": [
    {
     "name": "stderr",
     "output_type": "stream",
     "text": [
      "C:\\Users\\KAPS\\AppData\\Local\\Temp\\ipykernel_20064\\4080736814.py:1: DeprecationWarning: \n",
      "Pyarrow will become a required dependency of pandas in the next major release of pandas (pandas 3.0),\n",
      "(to allow more performant data types, such as the Arrow string type, and better interoperability with other libraries)\n",
      "but was not found to be installed on your system.\n",
      "If this would cause problems for you,\n",
      "please provide us feedback at https://github.com/pandas-dev/pandas/issues/54466\n",
      "        \n",
      "  import pandas as pd\n"
     ]
    }
   ],
   "source": [
    "import pandas as pd"
   ]
  },
  {
   "cell_type": "code",
   "execution_count": 4,
   "metadata": {},
   "outputs": [],
   "source": [
    "from gather_info import gatherInfoFromURL"
   ]
  },
  {
   "cell_type": "code",
   "execution_count": 12,
   "metadata": {
    "scrolled": true
   },
   "outputs": [
    {
     "name": "stdout",
     "output_type": "stream",
     "text": [
      "Found 21 cars on page : http://www.cars-data.com/en/sport-cars.html\n"
     ]
    }
   ],
   "source": [
    "carinfo = gatherInfoFromURL(url=\"http://www.cars-data.com/en/sport-cars.html\")"
   ]
  },
  {
   "cell_type": "code",
   "execution_count": 13,
   "metadata": {},
   "outputs": [
    {
     "name": "stdout",
     "output_type": "stream",
     "text": [
      "21\n"
     ]
    }
   ],
   "source": [
    "print(len(carinfo[\"cars\"]))"
   ]
  },
  {
   "cell_type": "code",
   "execution_count": 14,
   "metadata": {},
   "outputs": [],
   "source": [
    "carDataFrame = pd.DataFrame({\"Cars\": carinfo.get(\"cars\"), \"Year\": carinfo.get(\"year\"), \"Power\": carinfo.get(\"power\"), \"Car type\": carinfo.get(\"carType\")})"
   ]
  },
  {
   "cell_type": "code",
   "execution_count": 15,
   "metadata": {},
   "outputs": [
    {
     "name": "stdout",
     "output_type": "stream",
     "text": [
      "(21, 4)\n"
     ]
    }
   ],
   "source": [
    "print(carDataFrame.shape)"
   ]
  },
  {
   "cell_type": "code",
   "execution_count": 16,
   "metadata": {},
   "outputs": [
    {
     "name": "stdout",
     "output_type": "stream",
     "text": [
      "                         Cars Power Car type  Started  \\\n",
      "0  Bugatti Veyron Super Sport  1200    Coupe     2010   \n",
      "1         Bugatti Veyron 16.4  1001    Coupe     2005   \n",
      "2  Bugatti Veyron Grand Sport  1001    Coupe     2009   \n",
      "3       Ferrari SF90 Stradale  1000    Coupe     2020   \n",
      "4           Ferrari LaFerrari   963    Coupe     2013   \n",
      "\n",
      "   End year (2018 if still present)  \n",
      "0                              2015  \n",
      "1                              2011  \n",
      "2                              2015  \n",
      "3                              2018  \n",
      "4                              2015  \n"
     ]
    }
   ],
   "source": [
    "startYear = []\n",
    "endYear = []\n",
    "\n",
    "for year in carDataFrame[\"Year\"]:\n",
    "    splitYear = year.split(\"-\")\n",
    "    startYear.append(int(splitYear[0].strip()))\n",
    "    if splitYear[1].strip() == \"present\":\n",
    "        endYear.append(2018)\n",
    "    else:\n",
    "        endYear.append(int(splitYear[1].strip()))\n",
    "        \n",
    "carDataFrame = carDataFrame.drop(['Year'], axis=1)\n",
    "carDataFrame[\"Started\"] = startYear\n",
    "carDataFrame[\"End year (2018 if still present)\"] = endYear\n",
    "\n",
    "print(carDataFrame.head())\n"
   ]
  },
  {
   "cell_type": "code",
   "execution_count": 19,
   "metadata": {},
   "outputs": [],
   "source": [
    "header = [\"Cars\", \"Power\", \"Car type\", \"Started\", \"End year (2018 if still present)\"]\n",
    "carDataFrame.to_csv(\"carInfo1.csv\", columns=header, index=False)"
   ]
  },
  {
   "cell_type": "code",
   "execution_count": null,
   "metadata": {},
   "outputs": [],
   "source": []
  },
  {
   "cell_type": "code",
   "execution_count": null,
   "metadata": {},
   "outputs": [],
   "source": []
  },
  {
   "cell_type": "code",
   "execution_count": null,
   "metadata": {},
   "outputs": [],
   "source": []
  },
  {
   "cell_type": "code",
   "execution_count": null,
   "metadata": {},
   "outputs": [],
   "source": []
  },
  {
   "cell_type": "code",
   "execution_count": null,
   "metadata": {},
   "outputs": [],
   "source": []
  },
  {
   "cell_type": "code",
   "execution_count": null,
   "metadata": {},
   "outputs": [],
   "source": []
  },
  {
   "cell_type": "code",
   "execution_count": null,
   "metadata": {},
   "outputs": [],
   "source": []
  },
  {
   "cell_type": "code",
   "execution_count": null,
   "metadata": {},
   "outputs": [],
   "source": []
  },
  {
   "cell_type": "code",
   "execution_count": null,
   "metadata": {},
   "outputs": [],
   "source": []
  },
  {
   "cell_type": "code",
   "execution_count": null,
   "metadata": {},
   "outputs": [],
   "source": []
  },
  {
   "cell_type": "code",
   "execution_count": null,
   "metadata": {},
   "outputs": [],
   "source": []
  },
  {
   "cell_type": "code",
   "execution_count": null,
   "metadata": {},
   "outputs": [],
   "source": []
  },
  {
   "cell_type": "code",
   "execution_count": null,
   "metadata": {},
   "outputs": [],
   "source": []
  },
  {
   "cell_type": "code",
   "execution_count": null,
   "metadata": {},
   "outputs": [],
   "source": []
  },
  {
   "cell_type": "code",
   "execution_count": null,
   "metadata": {},
   "outputs": [],
   "source": []
  }
 ],
 "metadata": {
  "kernelspec": {
   "display_name": "Python 3 (ipykernel)",
   "language": "python",
   "name": "python3"
  },
  "language_info": {
   "codemirror_mode": {
    "name": "ipython",
    "version": 3
   },
   "file_extension": ".py",
   "mimetype": "text/x-python",
   "name": "python",
   "nbconvert_exporter": "python",
   "pygments_lexer": "ipython3",
   "version": "3.12.2"
  }
 },
 "nbformat": 4,
 "nbformat_minor": 4
}
